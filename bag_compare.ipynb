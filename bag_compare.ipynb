{
 "cells": [
  {
   "cell_type": "markdown",
   "metadata": {},
   "source": [
    "Deduplication with digital material is usually considered at a file level - ie. this file is identical to that file, these files have identical titles, thses files are similar.\n",
    "\n",
    "The Greer Archive contains 421 disk images of various forms of media, all with varying levels of duplication. Duplicates within a digital collection are not necessarily a problem, as duplicates can mean different things in different contexts. Consider duplicate powerpoint presentations on media labelled with the event at which the talk was delivered. \n",
    "\n",
    "However analysis of duplication at a file level indicates under a third of the files recovered are unique. This notebook is an attempt to map similarities of groupings of files. It does this by comparing the checksums for the contents of each package (in a bagit structure) and then mapping the similarity."
   ]
  },
  {
   "cell_type": "markdown",
   "metadata": {},
   "source": [
    "First we'll need a list of the bags. "
   ]
  },
  {
   "cell_type": "code",
   "execution_count": 25,
   "metadata": {},
   "outputs": [],
   "source": [
    "import os\n",
    "import bagit\n",
    "directory = r\"C:\\Users\\lglanville\\tester\\corpus\"\n",
    "baglist = []\n",
    "for root, _, files in os.walk(directory):\n",
    "    for file in files:\n",
    "        if file == 'bagit.txt':\n",
    "            baglist.append(bagit.Bag(root))"
   ]
  },
  {
   "cell_type": "code",
   "execution_count": 26,
   "metadata": {},
   "outputs": [],
   "source": [
    "def filter_hashes(p_entries):\n",
    "    \"\"\"\n",
    "    Helper function to exclude hashes for submission data. \n",
    "    Extracted files are stored in the 'objects' directory of each bag\n",
    "    \"\"\"\n",
    "    h = []\n",
    "    for file, hashes in p_entries.items():\n",
    "        if file.startswith('data\\\\objects'):\n",
    "            h.append(hashes.get('sha256'))\n",
    "    return(h)"
   ]
  },
  {
   "cell_type": "code",
   "execution_count": 27,
   "metadata": {},
   "outputs": [],
   "source": [
    "def compare(a, b):\n",
    "    \"\"\"\n",
    "    compares the contents of two iterables. \n",
    "    Score of 0 means b contains no items in a. \n",
    "    Score of 1.0 means a is completely duplicated within b.\n",
    "    \"\"\"\n",
    "    portion = 1 / len(a)\n",
    "    score = 0\n",
    "    for h in a:\n",
    "        if h in b:\n",
    "            score += portion\n",
    "    return(score)"
   ]
  },
  {
   "cell_type": "markdown",
   "metadata": {},
   "source": [
    "Now we're going to construct a network graph using the networkx library. Each bag is a node, with edges between when similarity is over 0.5. We're also going to filter in some descriptive metadata from the bag-info.txt files, so we can interpret the visualised graph better."
   ]
  },
  {
   "cell_type": "code",
   "execution_count": null,
   "metadata": {},
   "outputs": [],
   "source": [
    "import networkx as nx\n",
    "g = nx.MultiDiGraph()\n",
    "h_list = [(bag, filter_hashes(bag.payload_entries())) for bag in baglist if filter_hashes(bag.payload_entries())!= []]\n",
    "for bag, hashes in h_list:\n",
    "    kw = {'carrier': bag.info.get('carrier'), 'title': bag.info.get('title')}\n",
    "    g.add_node(bag.info.get('identifier'), **kw)\n",
    "    for bagtwo, hashtwo in h_list:\n",
    "           if bagtwo.info.get('identifier') != bag.info.get('identifier'):\n",
    "               s = compare(hashes, hashtwo)\n",
    "               if s > 0.5:\n",
    "                   g.add_edge(bag.info.get('identifier'), bagtwo.info.get('identifier'), weight=s)\n",
    "          "
   ]
  },
  {
   "cell_type": "markdown",
   "metadata": {},
   "source": [
    "Here we're going to construct a searchable index, where you can pick a package and it will tell you about similar packages."
   ]
  },
  {
   "cell_type": "code",
   "execution_count": null,
   "metadata": {},
   "outputs": [],
   "source": [
    "import pandas as pd\n",
    "from ipywidgets import interact\n",
    "f = nx.to_pandas_edgelist(g)\n",
    "sc = [g.nodes.data()[key]['carrier'] for key in f['source']]\n",
    "st = [g.nodes.data()[key]['title'] for key in f['source']]\n",
    "tc = [g.nodes.data()[key]['carrier'] for key in f['target']]\n",
    "tt = [g.nodes.data()[key]['title'] for key in f['target']]\n",
    "data = {'source_title':st, 'source_carrier': sc, 'target_title': tt, 'target_carrier': tc}\n",
    "f = f.join(pd.DataFrame(data=data))\n",
    "def filter(ind):\n",
    "    return f[f['source'] == ind]\n",
    "ind = f['source'].drop_duplicates().sort_values()\n",
    "interact(filter, ind=ind)"
   ]
  },
  {
   "cell_type": "markdown",
   "metadata": {},
   "source": [
    "Finally, we're going to visualise the graph using Bokeh(I tried this with Plot.ly, but it doesn't visualise network graphs as nicely). Darker edges are where packages are more similar. Slect a node to bold connected edges."
   ]
  },
  {
   "cell_type": "code",
   "execution_count": null,
   "metadata": {},
   "outputs": [],
   "source": [
    "from bokeh.io import show, output_notebook\n",
    "from bokeh.models import Plot, Range1d, MultiLine, Circle, HoverTool, BoxZoomTool, ResetTool, TapTool, DataTable\n",
    "from bokeh.models.graphs import from_networkx, NodesAndLinkedEdges, EdgesAndLinkedNodes\n",
    "from bokeh.palettes import magma, viridis\n",
    "\n",
    "edge_attrs = {}\n",
    "cp = magma(10)\n",
    "cp.reverse()\n",
    "for start_node, end_node, key, data in g.edges(data=True, keys=True):\n",
    "    w = int(data['weight']*10)\n",
    "    edge_attrs[(start_node, end_node, key)] = cp[w-1]\n",
    "edge_attrs\n",
    "nx.set_edge_attributes(g, edge_attrs, name=\"edge_color\")\n",
    "\n",
    "node_attrs = {}\n",
    "c = []\n",
    "for node, data in g.nodes.data():\n",
    "    c.append(data['carrier'])\n",
    "c = set(c)\n",
    "m = viridis(len(c))\n",
    "colours = dict(zip(c, m))\n",
    "colourmap = {}\n",
    "for node, data in g.nodes.data():\n",
    "    node_attrs.update({node: colours[data['carrier']]})\n",
    "nx.set_node_attributes(g, node_attrs, name=\"node_color\")\n",
    "    \n",
    "output_notebook(notebook_type='jupyter')\n",
    "plot = Plot(plot_width=800, plot_height=800,\n",
    "            x_range=Range1d(-1.1, 1.1), y_range=Range1d(-1.1, 1.1))\n",
    "plot.title.text = \"Bag similarity\"\n",
    "\n",
    "node_hover_tool = HoverTool(tooltips=[(\"index\", \"@index\"), (\"title\", \"@title\"), (\"carrier\", \"@carrier\")])\n",
    "plot.add_tools(node_hover_tool, BoxZoomTool(), ResetTool(), TapTool())\n",
    "\n",
    "graph_renderer = from_networkx(g, nx.spring_layout, scale=1, center=(0, 0), weight=\"weight\")\n",
    "graph_renderer.node_renderer.glyph = Circle(size=15, fill_color=\"node_color\")\n",
    "graph_renderer.edge_renderer.glyph = MultiLine(line_alpha=0.8, line_width=\"weight\", line_color=\"edge_color\")\n",
    "graph_renderer.edge_renderer.selection_glyph = MultiLine(line_width=5, line_color=\"edge_color\")\n",
    "graph_renderer.selection_policy = NodesAndLinkedEdges()\n",
    "plot.renderers.append(graph_renderer)\n",
    "\n",
    "show(plot)"
   ]
  }
 ],
 "metadata": {
  "kernelspec": {
   "display_name": "Python 3",
   "language": "python",
   "name": "python3"
  },
  "language_info": {
   "codemirror_mode": {
    "name": "ipython",
    "version": 3
   },
   "file_extension": ".py",
   "mimetype": "text/x-python",
   "name": "python",
   "nbconvert_exporter": "python",
   "pygments_lexer": "ipython3",
   "version": "3.7.0"
  }
 },
 "nbformat": 4,
 "nbformat_minor": 2
}
